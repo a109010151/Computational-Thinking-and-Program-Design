{
  "nbformat": 4,
  "nbformat_minor": 0,
  "metadata": {
    "kernelspec": {
      "display_name": "Python 3",
      "language": "python",
      "name": "python3"
    },
    "language_info": {
      "codemirror_mode": {
        "name": "ipython",
        "version": 3
      },
      "file_extension": ".py",
      "mimetype": "text/x-python",
      "name": "python",
      "nbconvert_exporter": "python",
      "pygments_lexer": "ipython3",
      "version": "3.8.5"
    },
    "colab": {
      "name": "蕭咸蓁 - Week14 - 課堂練習.ipynb",
      "provenance": [],
      "collapsed_sections": [],
      "include_colab_link": true
    }
  },
  "cells": [
    {
      "cell_type": "markdown",
      "metadata": {
        "id": "view-in-github",
        "colab_type": "text"
      },
      "source": [
        "<a href=\"https://colab.research.google.com/github/a109010151/Computational-Thinking-and-Program-Design/blob/main/%E8%95%AD%E5%92%B8%E8%93%81_Week14_%E8%AA%B2%E5%A0%82%E7%B7%B4%E7%BF%92.ipynb\" target=\"_parent\"><img src=\"https://colab.research.google.com/assets/colab-badge.svg\" alt=\"Open In Colab\"/></a>"
      ]
    },
    {
      "cell_type": "markdown",
      "metadata": {
        "id": "gzpgdCHBrWvJ"
      },
      "source": [
        "### 習題解答"
      ]
    },
    {
      "cell_type": "markdown",
      "metadata": {
        "id": "lIqbpzf-rWvL"
      },
      "source": [
        "**練習2. 時尚偵測師**\n",
        "\n",
        "時尚達人Cher 和 Dionne要參加一個華麗的派對。他們想確保他們的穿搭與眾不同，但有也想保留一點共同的地方，比如兩人都喜歡粉紅色。讓我們寫一些程式，確保兩人的穿搭都個性十足！\n",
        "\n",
        "～首先，請用變數賦值的方式決定兩位的穿著\n",
        "\n",
        "例如下面的穿著建議，請同學自行修改\n",
        "cher_dress_color = \"pink\"\n",
        "cher_shoe_color = \"white\"\n",
        "cher_has_earrings = True\n",
        "dionne_dress_color = \"purple\"\n",
        "dionne_shoe_color = \"pink\"\n",
        "dionne_has_earrings = True\n",
        "\n",
        "\n",
        "～其次，請同學用真假值做時尚偵測，檢查一下兩位時尚達人的穿搭是否符合下面的要點:\n",
        "\n",
        "至少有一人穿紫色 At least one person is wearing purple?\n",
        "兩人穿不同顏色的衣服Cher and Dionne have different dress colors.\n",
        "兩人都戴耳環Cher and Dionne are both earing earrings.\n",
        "至少有一人穿粉紅色 At least one person is wearing pink.\n",
        "沒人穿綠色。 No one is wearing green.\n",
        "兩人穿同顏色的鞋子 Cher and Dionne have the same shoe color.\n",
        "\n",
        "例如\n",
        "print(f'At least one person is wearing pink? {cher_dress_color == \"pink\" or dionne_dress_color == \"pink\"}')\n",
        "\n",
        ".......請同學自行撰寫判斷程式"
      ]
    },
    {
      "cell_type": "markdown",
      "metadata": {
        "id": "epYDDkYOrWvO"
      },
      "source": [
        "print (f'Both girls have different dress colors? {cher_dress_color != \"purple\" and dionne_dress_color != \"pink\"}')\n",
        "\n",
        "print(f\"Both girls are waering earrings? {cher_has_earrings == True and dionne_has_earrings == True}\")\n",
        "\n",
        "print(f'At least one person is wearing pink? {cher_dress_color == \"pink\" or dionne_dress_color == \"pink\"}')\n",
        "\n",
        "print(f'No one is wearing green? {cher_dress_color != \"green\" and dionne_dress_color != \"green\"}')\n",
        "\n",
        "print(f'Both girls have the same shoe colors? {(cher_shoe_color==\"pink\" and dionne_shoe_color == \"pink\") or (cher_shoe_color == \"white\" and dionne_shoe_color == \"white\")}')"
      ]
    },
    {
      "cell_type": "code",
      "metadata": {
        "colab": {
          "base_uri": "https://localhost:8080/"
        },
        "id": "Bz2Avz_YDbhE",
        "outputId": "f50e62da-1d6b-4988-99e1-25bf8422cc13"
      },
      "source": [
        "cher_dress_color = \"pink\"\n",
        "cher_shoe_color = \"white\"\n",
        "cher_has_earrings = True\n",
        "dionne_dress_color = \"purple\"\n",
        "dionne_shoe_color = \"white\"\n",
        "dionne_has_earrings = True\n",
        "\n",
        "print(f'At least one person is wearing purple? {cher_dress_color == \"pink\" or dionne_dress_color == \"purple\"}')\n",
        "print(f'Cher and Dionne have different dress colors? {cher_dress_color == \"pink\" or dionne_dress_color == \"purple\"}')\n",
        "print(f'Cher and Dionne are both earing earrings? {cher_has_earrings == True or dionne_has_earrigs == True}')\n",
        "print(f'At least one person is wearing pink? {cher_dress_color == \"pink\" or cher_shoe_color == \"white\" or dionne_dress_color == \"purple\" or dionne_shoe_color == \"white\"}')\n",
        "print(f'No one is wearing green? {cher_dress_color == \"pink\" or cher_shoe_color == \"white\" or dionne_dress_color == \"purple\" or dionne_shoe_color == \"white\"}')\n",
        "print(f'Cher and Dionne have the same shoe color? {cher_shoe_color == \"white\" or dionne_shoe_color == \"white\"}')"
      ],
      "execution_count": null,
      "outputs": [
        {
          "output_type": "stream",
          "text": [
            "At least one person is wearing purple? True\n",
            "Cher and Dionne have different dress colors? True\n",
            "Cher and Dionne are both earing earrings? True\n",
            "At least one person is wearing pink? True\n",
            "No one is wearing green? True\n",
            "Cher and Dionne have the same shoe color? True\n"
          ],
          "name": "stdout"
        }
      ]
    },
    {
      "cell_type": "markdown",
      "metadata": {
        "id": "0rBqMdBkrWvO"
      },
      "source": [
        "練習7. Think Like a Computer Scientist\n",
        "如果輸入的num為20, 9, 5,和0，請用你的邏輯直接告訴我，下面兩組程式結果與差異:"
      ]
    },
    {
      "cell_type": "code",
      "metadata": {
        "id": "polWqIJerWvO"
      },
      "source": [
        "num = int(input(\"Enter a number: \"))\n",
        "\n",
        "\n",
        "## 方法（一）：if 敘述\n",
        "\n",
        "if num < 6:\n",
        "    print(\"num is less than 6\")\n",
        "if num < 10:\n",
        "    print(\"num is less than 10\")\n",
        "if num > 3:\n",
        "    print(\"num is greater than 3\")\n",
        "print(\"Finished.\")\n",
        "\n",
        "\n",
        "## 方法（二）：if-elif-else敘述\n",
        "\n",
        "if num < 6:\n",
        "    print(\"number is less than 6.\")\n",
        "elif num < 10:\n",
        "    print(\"number is less than 10.\")\n",
        "elif num > 3:\n",
        "    print(\"number is greater than 3.\")\n",
        "else:\n",
        "    print(\"No relation is found.\")\n",
        "print(\"Finished.\")"
      ],
      "execution_count": null,
      "outputs": []
    },
    {
      "cell_type": "code",
      "metadata": {
        "colab": {
          "base_uri": "https://localhost:8080/"
        },
        "id": "A-geH_BgtzbM",
        "outputId": "c7c7f8e5-65f2-42e5-fb32-0b21257e1de3"
      },
      "source": [
        "num = int(input(\"Enter a number: \"))\n",
        "if num < 6:\n",
        "    print(\"num is less than 6\")\n",
        "if num < 10:\n",
        "    print(\"num is less than 10\")\n",
        "if num > 3:\n",
        "    print(\"num is greater than 3\")\n",
        "print(\"Finished.\")"
      ],
      "execution_count": null,
      "outputs": [
        {
          "output_type": "stream",
          "text": [
            "Enter a number: 20\n",
            "num is greater than 3\n",
            "Finished.\n"
          ],
          "name": "stdout"
        }
      ]
    },
    {
      "cell_type": "code",
      "metadata": {
        "colab": {
          "base_uri": "https://localhost:8080/"
        },
        "id": "XlNp6ZtfkSTc",
        "outputId": "374bebb5-602b-4246-faaf-22f76ee1f610"
      },
      "source": [
        "num = int(input(\"Enter a number: \"))\n",
        "if num < 6:\n",
        "    print(\"num is less than 6\")\n",
        "elif num < 10:\n",
        "    print(\"num is less than 10\")\n",
        "elif num > 3:\n",
        "    print(\"num is greater than 3\")\n",
        "else:\n",
        "    print(\"No relation is found\")\n",
        "print(\"Finished\")"
      ],
      "execution_count": null,
      "outputs": [
        {
          "output_type": "stream",
          "text": [
            "Enter a number: 20\n",
            "num is greater than 3\n",
            "Finished\n"
          ],
          "name": "stdout"
        }
      ]
    },
    {
      "cell_type": "code",
      "metadata": {
        "colab": {
          "base_uri": "https://localhost:8080/"
        },
        "id": "G0ZR8abUhf_h",
        "outputId": "248d178c-1c1c-42b7-db05-86ae35af2560"
      },
      "source": [
        "num = int(input(\"Enter a number: \"))\n",
        "if num < 6:\n",
        "    print(\"num is less than 6\")\n",
        "if num < 10:\n",
        "    print(\"num is less than 10\")\n",
        "if num > 3:\n",
        "    print(\"num is greater than 3\")\n",
        "print(\"Finished\")"
      ],
      "execution_count": null,
      "outputs": [
        {
          "output_type": "stream",
          "text": [
            "Enter a number: 9\n",
            "num is less than 10\n",
            "num is greater than 3\n",
            "Finished\n"
          ],
          "name": "stdout"
        }
      ]
    },
    {
      "cell_type": "code",
      "metadata": {
        "colab": {
          "base_uri": "https://localhost:8080/"
        },
        "id": "WZ3muwkAkLtU",
        "outputId": "9a4fb8f6-bdb5-4614-d763-206fafa14b7d"
      },
      "source": [
        "num = int(input(\"Enter a number: \"))\n",
        "if num < 6:\n",
        "    print(\"num is less than 6\")\n",
        "elif num < 10:\n",
        "    print(\"num is less than 10\")\n",
        "elif num > 3:\n",
        "    print(\"num is greater than 3\")\n",
        "else:\n",
        "    print(\"No relation is found\")\n",
        "print(\"Finished\")"
      ],
      "execution_count": null,
      "outputs": [
        {
          "output_type": "stream",
          "text": [
            "Enter a number: 9\n",
            "num is less than 10\n",
            "Finished\n"
          ],
          "name": "stdout"
        }
      ]
    },
    {
      "cell_type": "code",
      "metadata": {
        "colab": {
          "base_uri": "https://localhost:8080/"
        },
        "id": "BVBhOZP6kaEK",
        "outputId": "dba77ea3-6c49-4359-dd36-006da1771d37"
      },
      "source": [
        "num = int(input(\"Enter a number: \"))\n",
        "if num < 6:\n",
        "    print(\"num is less than 6\")\n",
        "if num < 10:\n",
        "    print(\"num is less than 10\")\n",
        "if num > 3:\n",
        "    print(\"num is greater than 3\")\n",
        "print(\"Finished.\")"
      ],
      "execution_count": null,
      "outputs": [
        {
          "output_type": "stream",
          "text": [
            "Enter a number: 5\n",
            "num is less than 6\n",
            "num is less than 10\n",
            "num is greater than 3\n",
            "Finished.\n"
          ],
          "name": "stdout"
        }
      ]
    },
    {
      "cell_type": "code",
      "metadata": {
        "colab": {
          "base_uri": "https://localhost:8080/"
        },
        "id": "uaxj8pIfikAP",
        "outputId": "f1605680-713e-42ea-8c27-d2bd68a8ac38"
      },
      "source": [
        "num = int(input(\"Enter a number: \"))\n",
        "if num < 6:\n",
        "    print(\"num is less than 6\")\n",
        "elif num < 10:\n",
        "    print(\"num is less than 10\")\n",
        "elif num > 3:\n",
        "    print(\"num is greater than 3\")\n",
        "else:\n",
        "    print(\"No relation is found\")\n",
        "print(\"Finished\")"
      ],
      "execution_count": null,
      "outputs": [
        {
          "output_type": "stream",
          "text": [
            "Enter a number: 5\n",
            "num is less than 6\n",
            "Finished\n"
          ],
          "name": "stdout"
        }
      ]
    },
    {
      "cell_type": "code",
      "metadata": {
        "colab": {
          "base_uri": "https://localhost:8080/"
        },
        "id": "eDFMB8z8ksdE",
        "outputId": "5a6e08e8-4a44-41fd-ccec-b1d75e7b5fe6"
      },
      "source": [
        "num = int(input(\"Enter a number: \"))\n",
        "if num < 6:\n",
        "    print(\"num is less than 6\")\n",
        "if num < 10:\n",
        "    print(\"num is less than 10\")\n",
        "if num > 3:\n",
        "    print(\"num is greater than 3\")\n",
        "print(\"Finished.\")"
      ],
      "execution_count": null,
      "outputs": [
        {
          "output_type": "stream",
          "text": [
            "Enter a number: 0\n",
            "num is less than 6\n",
            "num is less than 10\n",
            "Finished.\n"
          ],
          "name": "stdout"
        }
      ]
    },
    {
      "cell_type": "code",
      "metadata": {
        "colab": {
          "base_uri": "https://localhost:8080/"
        },
        "id": "vskoqxe-i6YJ",
        "outputId": "0d515eab-8f63-4924-bc62-3d8318718053"
      },
      "source": [
        "num = int(input(\"Enter a number: \"))\n",
        "if num < 6:\n",
        "    print(\"num is less than 6\")\n",
        "elif num < 10:\n",
        "    print(\"num is less than 10\")\n",
        "elif num > 3:\n",
        "    print(\"num is greater than 3\")\n",
        "else:\n",
        "    print(\"No relation is found\")\n",
        "print(\"Finished\")"
      ],
      "execution_count": null,
      "outputs": [
        {
          "output_type": "stream",
          "text": [
            "Enter a number: 0\n",
            "num is less than 6\n",
            "Finished\n"
          ],
          "name": "stdout"
        }
      ]
    },
    {
      "cell_type": "markdown",
      "metadata": {
        "id": "9WDYTyRQkwgE"
      },
      "source": [
        "看法:\n",
        "用if敘述的話會比較完整的列出，但有用到if-elif-else就比較簡略回答\n"
      ]
    },
    {
      "cell_type": "markdown",
      "metadata": {
        "id": "bx3DuCEzrWvP"
      },
      "source": [
        "## 3. 多向選擇"
      ]
    },
    {
      "cell_type": "markdown",
      "metadata": {
        "id": "j2cbunBrrWvP"
      },
      "source": [
        "**範例：兩個數比大小**"
      ]
    },
    {
      "cell_type": "markdown",
      "metadata": {
        "id": "tFBKj02irWvP"
      },
      "source": [
        " In [1]: ## Input\n",
        "    ...: num1 = int(input(\"Please input a number: \"))\n",
        "    ...: num2 = int(input(\"Please input another number: \"))\n",
        "    ...: \n",
        "    ...: ## Process＋ Output\n",
        "    ...: if num1 == num2:\n",
        "    ...:     print(num1, \"等於\", num2)\n",
        "    ...: elif num1 < num2:\n",
        "    ...:     print(num1, \"小於\", num2)\n",
        "    ...: else:\n",
        "    ...:     print(num1, \"大於\", num2)\n",
        "\n",
        "Please input a number: 5\n",
        "\n",
        "Please input another number: 8\n",
        "5 小於 8"
      ]
    },
    {
      "cell_type": "code",
      "metadata": {
        "id": "j6KlYeKnrWvQ",
        "colab": {
          "base_uri": "https://localhost:8080/"
        },
        "outputId": "971b92e8-9358-4bd7-8bd1-a8f6a388c0ac"
      },
      "source": [
        "num1 = int(input(\"Please input a number: \"))\n",
        "num2 = int(input(\"Please input another number: \"))\n",
        "if num1 == num2:\n",
        "    print(num1,\"等於\",num2)\n",
        "elif num1 < num2:\n",
        "    print(num1,\"小於\",num2) \n",
        "else:\n",
        "    print(num1,\"大於\",num2) "
      ],
      "execution_count": null,
      "outputs": [
        {
          "output_type": "stream",
          "text": [
            "Please input a number: 5\n",
            "Please input another number: 8\n",
            "5 小於 8\n"
          ],
          "name": "stdout"
        }
      ]
    },
    {
      "cell_type": "markdown",
      "metadata": {
        "id": "sDTjjpGwrWvQ"
      },
      "source": [
        "#### 範例 : 郵資計算\n",
        "\n",
        "某快遞公司以重量為計算郵資的依據，重量與郵資計算如下表，請寫一個程式協助快遞人員計算郵資，快遞人員只要輸入重量，程式自動計算郵資。\n",
        "\n",
        "若重量小於等於5 公斤，則顯示「50」，否則若重量小於等於10 公斤，則顯示「70」，若重量小於等於15 公斤，則顯示「90」，若重量小於等於20 公斤，則顯示「110」，否則顯示「超過20 公斤無法寄送」。"
      ]
    },
    {
      "cell_type": "markdown",
      "metadata": {
        "id": "THDU89wCrWvQ"
      },
      "source": [
        "In [1]: ## 郵資計算\n",
        "    ...: w = float(input('請輸入物品重量？')) # Input\n",
        "    ...: \n",
        "    ...: if w <= 5:                          \n",
        "    ...:     print('所需郵資為50元')\n",
        "    ...: elif w <= 10:\n",
        "    ...:     print('所需郵資為70元')\n",
        "    ...: elif w <= 15:\n",
        "    ...:     print('所需郵資為90元')\n",
        "    ...: elif w <= 20:\n",
        "    ...:     print('所需郵資為110元')\n",
        "    ...: else:\n",
        "    ...:     print('超過20公斤無法寄送')\n",
        "\n",
        "請輸入物品重量？20\n",
        "所需郵資為110元"
      ]
    },
    {
      "cell_type": "code",
      "metadata": {
        "id": "_7PYHOLCrWvQ",
        "colab": {
          "base_uri": "https://localhost:8080/"
        },
        "outputId": "af1ff84f-cde4-43c8-a5b0-b68f217521ec"
      },
      "source": [
        "w = float(input('請輸入物品重量? '))\n",
        "if w <= 5:\n",
        "    print('所需郵資為50元')\n",
        "elif w <= 10:\n",
        "    print('所需郵資為70元')\n",
        "elif w <= 15:\n",
        "    print('所需郵資為90元')\n",
        "elif w <= 20:\n",
        "    print('所需郵資為110元')\n",
        "else:\n",
        "    print('超過20公斤無法運送')\n"
      ],
      "execution_count": null,
      "outputs": [
        {
          "output_type": "stream",
          "text": [
            "請輸入物品重量? 20\n",
            "所需郵資為110元\n"
          ],
          "name": "stdout"
        }
      ]
    },
    {
      "cell_type": "markdown",
      "metadata": {
        "id": "_lh1Bj6QrWvQ"
      },
      "source": [
        "#### 隨堂練習： BMI 計算\n",
        "\n",
        "**請寫一個程式讓使用者輸入身高與體重，顯示BMI 值與肥胖程度。**\n",
        "BMI 等於體重（KG）除以身高（M）的平方，而BMI 與肥胖分類標準如下：\n",
        "\n",
        "若BMI 值小於18，則顯示「體重過輕」，否則若BMI 值小於24，則顯示「體重正常」，若BMI 值小於27，則顯示「體重過重」，否則顯示「體重肥胖」。"
      ]
    },
    {
      "cell_type": "code",
      "metadata": {
        "id": "YGC_PRxHrWvR",
        "colab": {
          "base_uri": "https://localhost:8080/"
        },
        "outputId": "817509f0-2a62-4b99-fd8d-e218a4cfb62b"
      },
      "source": [
        "w = float(input('請輸入體重(KG)?'))\n",
        "h = float(input('請輸入身高(M)?'))\n",
        "bmi = w/(h*h)\n",
        "print('BMI為',bmi)\n",
        "if bmi < 18:\n",
        "    print('體重過輕')\n",
        "elif bmi < 24:\n",
        "    print('體重正常')\n",
        "elif bmi < 27:\n",
        "    print('體重過重')\n",
        "else:\n",
        "    print('體重肥胖')"
      ],
      "execution_count": null,
      "outputs": [
        {
          "output_type": "stream",
          "text": [
            "請輸入體重(KG)?88\n",
            "請輸入身高(M)?1.8\n",
            "BMI為 27.160493827160494\n",
            "體重肥胖\n"
          ],
          "name": "stdout"
        }
      ]
    },
    {
      "cell_type": "markdown",
      "metadata": {
        "id": "uJF2Yso1rWvR"
      },
      "source": [
        "## 4. 巢狀選擇"
      ]
    },
    {
      "cell_type": "markdown",
      "metadata": {
        "id": "uAkaN_SIrWvR"
      },
      "source": [
        "**範例：猜數字遊戲**\n",
        "\n",
        "使用者輸入的數不等於秘密數，則它會看到這個數太低或太高的訊息。"
      ]
    },
    {
      "cell_type": "markdown",
      "metadata": {
        "id": "ZmEWXuvarWvR"
      },
      "source": [
        "## Guess the number.\n",
        "## 兩個雙向選擇\n",
        "secret_number = 83\n",
        "n = input(\"Guess a number between 1 and 100: \")\n",
        "n = int(n) # 文字轉數字\n",
        "\n",
        "if n == secret_number:\n",
        "\tprint(\"Guess Right!\")\n",
        "else:     # 猜錯則檢查太高或太低\n",
        "\tif n > secrete_number:\n",
        "\t\tprint(\"Guess lower!\") # 太高要往低猜\n",
        "\telse:\n",
        "\t\tprint(\"Guess higher\") # 太低要往高猜\n",
        "print(\"Thank you for joining the game!\")\n",
        "\n",
        "## 有沒有其他寫法"
      ]
    },
    {
      "cell_type": "code",
      "metadata": {
        "id": "uJybjcUVrWvR",
        "colab": {
          "base_uri": "https://localhost:8080/"
        },
        "outputId": "2527d77a-a9be-40d6-f7be-4ee6f9d6a358"
      },
      "source": [
        "secret_number = 83\n",
        "n = input(\"Guess a number between 1 and 100: \")\n",
        "n = int(n)\n",
        "if n == secret_number:\n",
        "    print(\"Guess Right!\")\n",
        "else:\n",
        "    if n > secret_number:\n",
        "        print(\"Guess lower!\")\n",
        "    else:\n",
        "        print(\"Guess higher\")\n",
        "print(\"Thank you for joining the game!\")"
      ],
      "execution_count": null,
      "outputs": [
        {
          "output_type": "stream",
          "text": [
            "Guess a number between 1 and 100: 55\n",
            "Guess higher\n",
            "Thank you for joining the game!\n"
          ],
          "name": "stdout"
        }
      ]
    },
    {
      "cell_type": "markdown",
      "metadata": {
        "id": "ohpfmYRCrWvR"
      },
      "source": [
        "#### 範例: 分數與評語\n",
        "\n",
        "寫一個程式若成績大於等於80 分，評語為「非常好」；否則若成績大於等於60 分，評語為「不錯喔」；否則評語為「要加油」。"
      ]
    },
    {
      "cell_type": "markdown",
      "metadata": {
        "id": "0mTFTbI9rWvS"
      },
      "source": [
        " In [1]: ## 方法（一）：單向選擇\n",
        "    ...: score = int(input('請輸入一個成績？'))\n",
        "    ...: if score >= 80:\n",
        "    ...:     print('非常好')\n",
        "    ...: if 80 > score >= 60: # 前面要有80>才行\n",
        "    ...:     print('不錯喔')\n",
        "    ...: if score < 60:    \n",
        "    ...:     print('要加油')\n",
        "\n",
        "請輸入一個成績？88\n",
        "非常好\n",
        "\n",
        " In [2]: ## 方法（二）：多向選擇\n",
        "    ...: score = int(input('請輸入一個成績？'))\n",
        "    ...: if score >= 80:\n",
        "    ...:     print('非常好')\n",
        "    ...: elif score >= 60:   # 前面不用有80>\n",
        "    ...:     print('不錯喔')\n",
        "    ...: else:\n",
        "    ...:     print('要加油')\n",
        "\n",
        "請輸入一個成績？88\n",
        "非常好\n",
        "\n",
        " In [3]: ## 方法（三）：雙向選擇＋巢狀選擇\n",
        "    ...: score = int(input('請輸入一個成績？'))\n",
        "    ...: if score >= 80:\n",
        "    ...:     print('非常好')\n",
        "    ...: else:\n",
        "    ...:     if score >= 60:\n",
        "    ...:         print('不錯喔')\n",
        "    ...:     else:\n",
        "    ...:         print('要加油')\n",
        "\n",
        "請輸入一個成績？88\n",
        "非常好"
      ]
    },
    {
      "cell_type": "code",
      "metadata": {
        "id": "xAnAkRYFrWvS",
        "colab": {
          "base_uri": "https://localhost:8080/"
        },
        "outputId": "2de32af8-bda7-46b9-d274-ab90c4ee05cd"
      },
      "source": [
        "##單向選擇\n",
        "score = int(input('請輸入一個成績? '))\n",
        "if score >= 80:\n",
        "    print('非常好')\n",
        "if 80 > score >= 60:\n",
        "    print('不錯喔')\n",
        "if score < 60:\n",
        "    print('要加油')\n",
        "    \n"
      ],
      "execution_count": 16,
      "outputs": [
        {
          "output_type": "stream",
          "text": [
            "請輸入一個成績? 88\n",
            "非常好\n"
          ],
          "name": "stdout"
        }
      ]
    },
    {
      "cell_type": "code",
      "metadata": {
        "colab": {
          "base_uri": "https://localhost:8080/"
        },
        "id": "OxpywFfPuhJw",
        "outputId": "93743a53-b36d-40fd-c16f-f83366ff228b"
      },
      "source": [
        "##多向選擇\n",
        "score = int(input('請輸入一個成績? '))\n",
        "if score >= 80:\n",
        "    print('非常好')\n",
        "elif score >= 60:\n",
        "    print('不錯喔')\n",
        "else:\n",
        "    print('要加油')\n",
        "    "
      ],
      "execution_count": 17,
      "outputs": [
        {
          "output_type": "stream",
          "text": [
            "請輸入一個成績? 88\n",
            "非常好\n"
          ],
          "name": "stdout"
        }
      ]
    },
    {
      "cell_type": "code",
      "metadata": {
        "colab": {
          "base_uri": "https://localhost:8080/"
        },
        "id": "8mFReOzTuzbv",
        "outputId": "cdee546c-2fd6-4477-8817-4c469d51754c"
      },
      "source": [
        "##雙向+巢狀\n",
        "score = int(input('請輸入一個成績? '))\n",
        "if score >= 80:\n",
        "    print('非常好')\n",
        "else:\n",
        "    if score >= 60:\n",
        "        print('不錯喔')\n",
        "    else:\n",
        "        print('要加油')\n",
        "    "
      ],
      "execution_count": 18,
      "outputs": [
        {
          "output_type": "stream",
          "text": [
            "請輸入一個成績? 88\n",
            "非常好\n"
          ],
          "name": "stdout"
        }
      ]
    },
    {
      "cell_type": "markdown",
      "metadata": {
        "id": "I4YBno6DrWvS"
      },
      "source": [
        "####  隨堂練習： 三一律\n",
        "\n",
        "**請輸入一個數，然後判斷這個數是正數、是負數或者是零。**\n",
        "\n",
        "(單向選擇、雙向與巢狀選擇、多向選擇)"
      ]
    },
    {
      "cell_type": "code",
      "metadata": {
        "id": "71Z_0btSrWvT",
        "colab": {
          "base_uri": "https://localhost:8080/"
        },
        "outputId": "be3117dc-25b4-4e54-ccd2-1c03b0ad2033"
      },
      "source": [
        "##單向選擇\n",
        "num = int(input(\"Pick a number: \"))\n",
        "if num > 0:\n",
        "    print(\"Your number is positive.\")\n",
        "if num < 0:\n",
        "    print(\"Your number is negative.\")\n",
        "if num == 0:\n",
        "    print(\"Your number is zero.\")"
      ],
      "execution_count": null,
      "outputs": [
        {
          "output_type": "stream",
          "text": [
            "Pick a number: 5\n",
            "Your number is positive.\n"
          ],
          "name": "stdout"
        }
      ]
    },
    {
      "cell_type": "code",
      "metadata": {
        "colab": {
          "base_uri": "https://localhost:8080/"
        },
        "id": "SF1STcialq3S",
        "outputId": "bcaaffb7-375b-4b7e-de73-e610c9a7fccf"
      },
      "source": [
        "## 雙向+巢狀選擇\n",
        "num = int(input(\"Pick a number: \"))\n",
        "if num > 0:\n",
        "  print(\"Your number is positive.\")   \n",
        "else:\n",
        "  if num < 0:\n",
        "    print(\"Your number is negative.\")\n",
        "  else:\n",
        "    print(\"Your number is zero.\")\n",
        "print(\"finished\")"
      ],
      "execution_count": null,
      "outputs": [
        {
          "output_type": "stream",
          "text": [
            "Pick a number: -3\n",
            "Your number is negative.\n",
            "finished\n"
          ],
          "name": "stdout"
        }
      ]
    },
    {
      "cell_type": "code",
      "metadata": {
        "colab": {
          "base_uri": "https://localhost:8080/"
        },
        "id": "54ee5NVvl3HO",
        "outputId": "d55a2e53-6476-480f-ef65-5c509bcc3053"
      },
      "source": [
        "##多項選擇\n",
        "num = int(input(\"Pick a number: \"))\n",
        "if num > 0:\n",
        "  print(\"Your number is positive.\")\n",
        "elif num < 0:\n",
        "  print(\"Your number is negative.\")\n",
        "else:\n",
        "  print(\"Your number is zero.\")\n",
        "print(\"Finished\")"
      ],
      "execution_count": null,
      "outputs": [
        {
          "output_type": "stream",
          "text": [
            "Pick a number: 0\n",
            "Your number is zero.\n",
            "Finished\n"
          ],
          "name": "stdout"
        }
      ]
    },
    {
      "cell_type": "markdown",
      "metadata": {
        "id": "KglhKcRbrWvT"
      },
      "source": [
        "#### 應用練習 1：電影評價\n",
        "\n",
        "movie_title = input('請輸入電影的名稱:')\n",
        "movie_rating = float(input('請輸入電影的評等:'))\n",
        "\n",
        "## 單向選擇 if條件句\n",
        "\n",
        "if movie_rating > 7:\n",
        "    print(f\"{movie_titl}的評分為{movie_rating}分值得去看！\")\n",
        "    \n",
        "\n",
        "## 二合一的單向選擇\n",
        "\n",
        "if movie_rating > 7:\n",
        "    print(f\"{}的評分為 {} 分值得去看！\")\n",
        "if movie_rating <= 7:\n",
        "    print(f\"{}的評分為 {} 分不值得去看！\")\n",
        "    \n",
        "## 雙向選擇\n",
        "if movie_rating > 7:\n",
        "    print(f\"{}的評分為 {} 分值得去看！\")\n",
        "else:\n",
        "    print(f\"{}的評分為 {} 分不值得去看！\")\n",
        "\n",
        "\n",
        "## 多向選擇\n",
        "if movie_rating > 7:\n",
        "     print(f\"{}的評分為 {} 分值得去看！\")\n",
        "elif movie_rating > 6:\n",
        "    print(f\"{}的評分為 {} 分不值得去看！\")\n",
        "else:\n",
        "    print(f\"{}的評分為 {} 分不要看!\")"
      ]
    },
    {
      "cell_type": "code",
      "metadata": {
        "id": "5Mi5BtSFrWvT",
        "colab": {
          "base_uri": "https://localhost:8080/"
        },
        "outputId": "96df7e61-4c99-4067-9e60-4aa78eac4223"
      },
      "source": [
        "##單向選擇\n",
        "movie_title = input('請輸入電影的名稱:') \n",
        "movie_rating = input('請輸入電影的評等:')\n",
        "movie_rating = float(movie_rating)\n",
        "if movie_rating > 7: \n",
        "    print(f\"{movie_title}的評分為{movie_rating}分值得去看！\")\n",
        "\n"
      ],
      "execution_count": 11,
      "outputs": [
        {
          "output_type": "stream",
          "text": [
            "請輸入電影的名稱:iron man\n",
            "請輸入電影的評等:8.8\n",
            "iron man的評分為8.8分值得去看！\n"
          ],
          "name": "stdout"
        }
      ]
    },
    {
      "cell_type": "code",
      "metadata": {
        "colab": {
          "base_uri": "https://localhost:8080/"
        },
        "id": "xnZbbzPmCIpz",
        "outputId": "8baf615d-043a-43e8-c9a0-ffb754d78d7f"
      },
      "source": [
        "##二合一的單向選擇\n",
        "movie_title = input('請輸入電影的名稱:') \n",
        "movie_rating = input('請輸入電影的評等:')\n",
        "movie_rating = float(movie_rating)\n",
        "if movie_rating > 7: \n",
        "    print(f\"{movie_title}的評分為{movie_rating}分值得去看！\")\n",
        "if movie_rating <= 7:\n",
        "    print(f\"{movie_title}的評分為{movie_rating}分不值得去看！\")"
      ],
      "execution_count": 13,
      "outputs": [
        {
          "output_type": "stream",
          "text": [
            "請輸入電影的名稱:iron man\n",
            "請輸入電影的評等:8.8\n",
            "iron man的評分為8.8分值得去看！\n"
          ],
          "name": "stdout"
        }
      ]
    },
    {
      "cell_type": "code",
      "metadata": {
        "colab": {
          "base_uri": "https://localhost:8080/"
        },
        "id": "yfTff-uAEK0F",
        "outputId": "108bfe82-8220-4b17-bac2-3a96d1311101"
      },
      "source": [
        "##雙向選擇\n",
        "movie_title = input('請輸入電影的名稱:') \n",
        "movie_rating = input('請輸入電影的評等:')\n",
        "movie_rating = float(movie_rating)\n",
        "if movie_rating > 7: \n",
        "    print(f\"{movie_title}的評分為{movie_rating}分值得去看！\")\n",
        "else:\n",
        "    print(f\"{movie_title}的評分為{movie_rating}分不值得去看！\")"
      ],
      "execution_count": 15,
      "outputs": [
        {
          "output_type": "stream",
          "text": [
            "請輸入電影的名稱:iron man\n",
            "請輸入電影的評等:8.8\n",
            "iron man的評分為8.8分值得去看！\n"
          ],
          "name": "stdout"
        }
      ]
    },
    {
      "cell_type": "code",
      "metadata": {
        "colab": {
          "base_uri": "https://localhost:8080/"
        },
        "id": "EYk8dvqeCskA",
        "outputId": "a76b4675-3169-4e21-add4-c90f2991be9a"
      },
      "source": [
        "##多向選擇\n",
        "movie_title = input('請輸入電影的名稱:') \n",
        "movie_rating = input('請輸入電影的評等:')\n",
        "movie_rating = float(movie_rating)\n",
        "if movie_rating > 7: \n",
        "    print(f\"{movie_title}的評分為{movie_rating}分值得去看！\")\n",
        "elif movie_rating > 6:\n",
        "    print(f\"{movie_title}的評分為{movie_rating}分不值得去看！\")\n",
        "else:\n",
        "    print(f\"{movie_title}的評分為{movie_rating}分不要看！\")"
      ],
      "execution_count": 14,
      "outputs": [
        {
          "output_type": "stream",
          "text": [
            "請輸入電影的名稱:iron man\n",
            "請輸入電影的評等:8.8\n",
            "iron man的評分為8.8分值得去看！\n"
          ],
          "name": "stdout"
        }
      ]
    },
    {
      "cell_type": "markdown",
      "metadata": {
        "id": "xIjkkdyCrWvT"
      },
      "source": [
        "#### 應用練習 2：依照身份證字號，排隊領口罩\n",
        "\n",
        "user_int = int(input(\"請輸入一個正整數：\"))\n",
        "\n",
        "## 單向選擇\n",
        "\n",
        "if user_int % 2 == 0:\n",
        "    ans = \"偶數，請星期二四六日領口罩\"\n",
        "if user_int % 2 == 1:\n",
        "    ans = \"奇數，請星期一三五日領口罩\"\n",
        "print(ans)\n",
        "\n",
        "## 雙向選擇\n",
        "\n",
        "if user_int % 2 == 0:\n",
        "    ans = \"偶數，請星期二四六日領口罩\"\n",
        "else:\n",
        "    ans = \"奇數，請星期一三五日領口罩\"\n",
        "print(ans)\n"
      ]
    },
    {
      "cell_type": "markdown",
      "metadata": {
        "id": "QZWELc8orWvU"
      },
      "source": [
        "## 雙向選擇(Optional)\n",
        "id_number = input(\"請輸入身分證字號：\")\n",
        "id_last_digit = id_number[-1] # 由右往左數\n",
        "id_last_digit = int(id_last_digit)# 文字轉數字\n",
        "\n",
        "if id_last_digit % 2 == 0:\n",
        "    ans = \"偶數，請星期二四六日領口罩\"\n",
        "else:\n",
        "    ans = \"奇數，請星期一三五日領口罩\"\n",
        "print(ans)\n",
        "\n",
        "## 雙向選擇\n",
        "id_number = input(\"請輸入身分證字號：\")\n",
        "id_second_digit = id_number[1]\n",
        "if id_second_digit == '1':\n",
        "    gender = \"Male\"\n",
        "else:\n",
        "    gender = \"Female\"\n",
        "print(gender)"
      ]
    },
    {
      "cell_type": "code",
      "metadata": {
        "id": "VRgPBDTgrWvU",
        "colab": {
          "base_uri": "https://localhost:8080/"
        },
        "outputId": "19284fb4-e8bf-4a92-b4f0-e510ce13aaf7"
      },
      "source": [
        "id_number = input(\"請輸入身分證字號：\") \n",
        "id_second_digit = id_number[1] \n",
        "if id_second_digit == '1':\n",
        "    gender = \"Male\" \n",
        "else: \n",
        "    gender = \"Female\" \n",
        "print(gender)"
      ],
      "execution_count": 10,
      "outputs": [
        {
          "output_type": "stream",
          "text": [
            "請輸入身分證字號：a2\n",
            "Female\n"
          ],
          "name": "stdout"
        }
      ]
    },
    {
      "cell_type": "markdown",
      "metadata": {
        "id": "Myi59GkIrWvU"
      },
      "source": [
        "#### 應用練習 3：冒險遊戲 - 過去還是未來\n",
        "\n",
        "name = \" Your name here\"\n",
        "\n",
        "print(f\"Welcome to {name}'s Choose Your Own Adventure game! As you follow the story, you will be presented with choices that decide your fate. Take care and choose wisely! Let's begin.\")\n",
        "\n",
        "print(f\"You find yourself in a dark room with 2 doors. The first door is red, the second is white!\")\n",
        "\n",
        "door_choice = input(\"Which door do you want to choose? red = red door or white = white door\")\n",
        "\n",
        "if door_choice == \"red\":\n",
        "\tprint(\"Great, you walk through the red door and are now in the future! You meet a scientist who gives you a mission of helping him save the world!\")\n",
        "\t\n",
        "\tchoose_one = input(\"What do you want to do? \n",
        "\t1 = Accept or 2 = Decline\")\n",
        "\tif choice_one == \"1\":\n",
        "\t\tprint(\"\"\"＿＿＿＿＿SUCCESS＿＿＿＿＿\n",
        "\t\tYou will helped the scientist save the world!\n",
        "\t\tIn gratitude, the scientist builds a time machine\n",
        "        and sends you home! \"\"\")\n",
        "\telse:\n",
        "\t\tprint(\"\"\"______GAME OVER______\n",
        "\t\tToo bad! You declined the sientist's offer and\n",
        "    \tnow you are stuck in the future!\"\"\")\n",
        "\n",
        "else:\n",
        "\tprint(\"Great, you walked through the white door and now you are in the past! You meet a princess who asks you to go on a request.\")\n",
        "\t\n",
        "\tquest_choice = input(\"Do you want to accept her offer and go on the quest, or do you want to stay where you are?  1 = Accept or 2 = Decline\")\n",
        "\t\n",
        "\tif quest_choice == \"1\":\n",
        "\t\tprint(\"\"\"＿＿＿＿＿SUCCESS＿＿＿＿＿\n",
        "        Princess thanks you for accepting her offer. You begin the quest.\"\"\")\n",
        "\telse:\n",
        "\t\tprint(\"\"\"______GAME OVER _____\n",
        "\t\tWell, I guess your story ends here!\"\"\")"
      ]
    },
    {
      "cell_type": "code",
      "metadata": {
        "id": "1d85WlpnrWvU",
        "colab": {
          "base_uri": "https://localhost:8080/"
        },
        "outputId": "e9d39c26-7f0a-404a-8708-fcb029f685f1"
      },
      "source": [
        "name = \"Your name here\"\n",
        "print(f\"Welcome to {name}'s Choose Your Own Adventure game! As you follow the story, you will be presented with choices that decide your fate. Take care and choose wisely! Let's begin.\")\n",
        "print(f\"You find yourself in a dark room with 2 doors. The first door is red, the second is white!\")\n",
        "\n",
        "door_choice = input(\"Which door do you want to choose? red = red door or white = white door\")\n",
        "\n",
        "if door_choice == \"red\": \n",
        "    print(\"Great, you walk through the red door and are now in the future! You meet a scientist who gives you a mission of helping him save the world!\")\n",
        "    choose_one = input(\"What do you want to do? 1 = Accept or 2 = Decline\")\n",
        "    if choice_one == \"1\":\n",
        "        print(\"\"\"＿＿＿＿＿SUCCESS＿＿＿＿＿\n",
        "        You will helped the scientist save the world!\n",
        "        In gratitude, the scientist builds a time machine\n",
        "        and sends you home! \"\"\")\n",
        "    else:\n",
        "        print(\"\"\"______GAME OVER______\n",
        "        Too bad! You declined the sientist's offer and\n",
        "        now you are stuck in the future!\"\"\")\n",
        "else: \n",
        "    print(\"Great, you walked through the white door and now you are in the past! You meet a princess who asks you to go on a request.\")\n",
        "    quest_choice = input(\"Do you want to accept her offer and go on the quest, or do you want to stay where you are?  1 = Accept or 2 = Decline\")\n",
        " \n",
        "    if quest_choice == \"1\":\n",
        "        print(\"\"\"＿＿＿＿＿SUCCESS＿＿＿＿＿\n",
        "        Princess thanks you for accepting her offer. You begin the quest.\"\"\")\n",
        "    else:\n",
        "        print(\"\"\"______GAME OVER _____\n",
        "        Well, I guess your story ends here!\"\"\")\n"
      ],
      "execution_count": 5,
      "outputs": [
        {
          "output_type": "stream",
          "text": [
            "Welcome to Your name here's Choose Your Own Adventure game! As you follow the story, you will be presented with choices that decide your fate. Take care and choose wisely! Let's begin.\n",
            "You find yourself in a dark room with 2 doors. The first door is red, the second is white!\n",
            "Which door do you want to choose? red = red door or white = white door     red  door\n",
            "Great, you walked through the white door and now you are in the past! You meet a princess who asks you to go on a request.\n",
            "Do you want to accept her offer and go on the quest, or do you want to stay where you are?  1 = Accept or 2 = Decline      1\n",
            "______GAME OVER _____\n",
            "        Well, I guess your story ends here!\n"
          ],
          "name": "stdout"
        }
      ]
    }
  ]
}