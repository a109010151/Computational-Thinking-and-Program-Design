{
  "nbformat": 4,
  "nbformat_minor": 0,
  "metadata": {
    "colab": {
      "name": "蕭咸蓁-week4-練習作業.ipynb",
      "provenance": [],
      "authorship_tag": "ABX9TyOk7zsd4alFRZIDrT0DQc5/",
      "include_colab_link": true
    },
    "kernelspec": {
      "name": "python3",
      "display_name": "Python 3"
    }
  },
  "cells": [
    {
      "cell_type": "markdown",
      "metadata": {
        "id": "view-in-github",
        "colab_type": "text"
      },
      "source": [
        "<a href=\"https://colab.research.google.com/github/a109010151/Computational-Thinking-and-Program-Design/blob/main/%E8%95%AD%E5%92%B8%E8%93%81-week4-%E7%B7%B4%E7%BF%92%E4%BD%9C%E6%A5%AD.ipynb\" target=\"_parent\"><img src=\"https://colab.research.google.com/assets/colab-badge.svg\" alt=\"Open In Colab\"/></a>"
      ]
    },
    {
      "cell_type": "markdown",
      "metadata": {
        "id": "HXvpeGUaVOkU"
      },
      "source": [
        ""
      ]
    },
    {
      "cell_type": "markdown",
      "metadata": {
        "id": "bMBftXROVVGS"
      },
      "source": [
        "#隨堂練習"
      ]
    },
    {
      "cell_type": "code",
      "metadata": {
        "id": "28skDMlaVegB"
      },
      "source": [
        ""
      ],
      "execution_count": null,
      "outputs": []
    },
    {
      "cell_type": "markdown",
      "metadata": {
        "id": "WT9v5BvQVf4m"
      },
      "source": [
        "#課後練習\r\n",
        "**從一則新聞報導，提出你對新聞系（OO系）學生為什麼要學「運算思維與程式設計」的見解。（告訴我新聞連結，以及你的觀點即可。）**\r\n"
      ]
    },
    {
      "cell_type": "markdown",
      "metadata": {
        "id": "qUtup3zzisIR"
      },
      "source": [
        "[新聞連結](https://)https://udn.com/news/story/6928/4665450\r\n",
        "\r\n",
        "我覺得就像新聞所述的，現在運算思維與程式設計已成為不分文理組、不分領域的共同素養，且在這個科技進步的時代下，每人幾乎都各有一支手機，電腦也是每個家庭必備的一項工具，而身為新聞系學生的我們對於電腦的需求也非常依賴，所以我們更應該要學習這門課程，讓我們在這個社會更具備多一項能力\r\n",
        "\r\n"
      ]
    },
    {
      "cell_type": "code",
      "metadata": {
        "id": "FDqhnC66Yj_7"
      },
      "source": [
        ""
      ],
      "execution_count": null,
      "outputs": []
    }
  ]
}