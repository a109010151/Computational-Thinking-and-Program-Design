{
  "nbformat": 4,
  "nbformat_minor": 0,
  "metadata": {
    "colab": {
      "name": "蕭咸蓁-week12-課後作業.ipynb",
      "provenance": [],
      "collapsed_sections": [],
      "authorship_tag": "ABX9TyP0Tt/02ziwlmJaBI3OGJbY",
      "include_colab_link": true
    },
    "kernelspec": {
      "name": "python3",
      "display_name": "Python 3"
    },
    "language_info": {
      "name": "python"
    }
  },
  "cells": [
    {
      "cell_type": "markdown",
      "metadata": {
        "id": "view-in-github",
        "colab_type": "text"
      },
      "source": [
        "<a href=\"https://colab.research.google.com/github/a109010151/Computational-Thinking-and-Program-Design/blob/main/%E8%95%AD%E5%92%B8%E8%93%81_week12_%E8%AA%B2%E5%BE%8C%E4%BD%9C%E6%A5%AD.ipynb\" target=\"_parent\"><img src=\"https://colab.research.google.com/assets/colab-badge.svg\" alt=\"Open In Colab\"/></a>"
      ]
    },
    {
      "cell_type": "markdown",
      "metadata": {
        "id": "JHRB5QBt-pW5"
      },
      "source": [
        "# 期末報告"
      ]
    },
    {
      "cell_type": "markdown",
      "metadata": {
        "id": "XkpZaeJx-nYi"
      },
      "source": [
        "### 組長(學號姓名)"
      ]
    },
    {
      "cell_type": "markdown",
      "metadata": {
        "id": "ZkG4Q8N8--A-"
      },
      "source": [
        "A109010151 蕭咸蓁"
      ]
    },
    {
      "cell_type": "markdown",
      "metadata": {
        "id": "N6A_MaNZ-h1v"
      },
      "source": [
        "### 組員(學號姓名):"
      ]
    },
    {
      "cell_type": "markdown",
      "metadata": {
        "id": "3YEtxySW_UCV"
      },
      "source": [
        "A109010049陳亭蓁 A109010127張宇彤\n"
      ]
    },
    {
      "cell_type": "markdown",
      "metadata": {
        "id": "kuGZJcV3_rc6"
      },
      "source": [
        "### 題目"
      ]
    },
    {
      "cell_type": "markdown",
      "metadata": {
        "id": "ZJ2LdOmc_7_w"
      },
      "source": [
        "點餐機器人\n",
        "\n"
      ]
    },
    {
      "cell_type": "markdown",
      "metadata": {
        "id": "ARloal0i_tm4"
      },
      "source": [
        "### 百字腳本"
      ]
    },
    {
      "cell_type": "markdown",
      "metadata": {
        "id": "rsWizSMQ_9Iv"
      },
      "source": [
        "走進一間西餐廳，發現裡面的一切都是全自動化，點餐的部分有一個專門的機器人來幫忙進行點餐，一開始機器人會先詢問顧客的姓名及是否有對什麼食物過敏，接著詢問顧客前菜、湯品、主餐、飲料及甜點分別要什麼，並且中間會穿插機器人的推薦，最後並祝顧客用餐愉快，有個美好的一天。\n"
      ]
    },
    {
      "cell_type": "code",
      "metadata": {
        "id": "Rby9TfQZ_Nbg"
      },
      "source": [
        ""
      ],
      "execution_count": null,
      "outputs": []
    }
  ]
}