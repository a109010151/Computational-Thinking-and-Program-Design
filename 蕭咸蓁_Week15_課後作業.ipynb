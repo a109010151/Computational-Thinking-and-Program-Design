{
  "nbformat": 4,
  "nbformat_minor": 0,
  "metadata": {
    "colab": {
      "name": "蕭咸蓁-Week15-課後作業.ipynb",
      "provenance": [],
      "collapsed_sections": [],
      "authorship_tag": "ABX9TyOjm7W8UMEX2NqNnef1Y/Dv",
      "include_colab_link": true
    },
    "kernelspec": {
      "name": "python3",
      "display_name": "Python 3"
    },
    "language_info": {
      "name": "python"
    }
  },
  "cells": [
    {
      "cell_type": "markdown",
      "metadata": {
        "id": "view-in-github",
        "colab_type": "text"
      },
      "source": [
        "<a href=\"https://colab.research.google.com/github/a109010151/Computational-Thinking-and-Program-Design/blob/main/%E8%95%AD%E5%92%B8%E8%93%81_Week15_%E8%AA%B2%E5%BE%8C%E4%BD%9C%E6%A5%AD.ipynb\" target=\"_parent\"><img src=\"https://colab.research.google.com/assets/colab-badge.svg\" alt=\"Open In Colab\"/></a>"
      ]
    },
    {
      "cell_type": "markdown",
      "metadata": {
        "id": "rJfdGdTxT3_F"
      },
      "source": [
        "##棒打老虎雞吃蟲\n",
        "\n"
      ]
    },
    {
      "cell_type": "code",
      "metadata": {
        "id": "uwu0Lrc0hntP",
        "colab": {
          "base_uri": "https://localhost:8080/"
        },
        "outputId": "44b9654d-3956-4c3b-b43c-e392c085a2e1"
      },
      "source": [
        "my_choice = int(input(\"請出拳[0]蟲[1]雞[2]老虎[3]棒子\"))\n",
        "print(\"你出的拳:\",my_choice)\n",
        "import random\n",
        "computer_choice = random.randint(0,3)\n",
        "print(\"電腦出拳為:\",computer_choice)\n",
        "\n",
        "if my_choice == (computer_choice+1)%4:\n",
        "    print(\"我贏了\")\n",
        "elif computer_choice == (my_choice+1)%4:\n",
        "    print(\"電腦贏了\")\n",
        "else:\n",
        "    print(\"平手\")\n",
        "\n",
        "\n"
      ],
      "execution_count": 3,
      "outputs": [
        {
          "output_type": "stream",
          "text": [
            "請出拳[0]蟲[1]雞[2]老虎[3]棒子  0\n",
            "你出的拳: 0\n",
            "電腦出拳為: 2\n",
            "平手\n"
          ],
          "name": "stdout"
        }
      ]
    },
    {
      "cell_type": "code",
      "metadata": {
        "id": "QvBq0B3uXGZ6"
      },
      "source": [
        ""
      ],
      "execution_count": null,
      "outputs": []
    }
  ]
}