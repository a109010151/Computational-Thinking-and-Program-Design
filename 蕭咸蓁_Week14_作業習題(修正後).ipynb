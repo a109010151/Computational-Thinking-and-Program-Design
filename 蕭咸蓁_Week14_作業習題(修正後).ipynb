{
  "nbformat": 4,
  "nbformat_minor": 0,
  "metadata": {
    "kernelspec": {
      "display_name": "Python 3",
      "language": "python",
      "name": "python3"
    },
    "language_info": {
      "codemirror_mode": {
        "name": "ipython",
        "version": 3
      },
      "file_extension": ".py",
      "mimetype": "text/x-python",
      "name": "python",
      "nbconvert_exporter": "python",
      "pygments_lexer": "ipython3",
      "version": "3.8.5"
    },
    "colab": {
      "name": "蕭咸蓁 - Week14 - 作業習題(修正後).ipynb",
      "provenance": [],
      "collapsed_sections": [],
      "include_colab_link": true
    }
  },
  "cells": [
    {
      "cell_type": "markdown",
      "metadata": {
        "id": "view-in-github",
        "colab_type": "text"
      },
      "source": [
        "<a href=\"https://colab.research.google.com/github/a109010151/Computational-Thinking-and-Program-Design/blob/main/%E8%95%AD%E5%92%B8%E8%93%81_Week14_%E4%BD%9C%E6%A5%AD%E7%BF%92%E9%A1%8C(%E4%BF%AE%E6%AD%A3%E5%BE%8C).ipynb\" target=\"_parent\"><img src=\"https://colab.research.google.com/assets/colab-badge.svg\" alt=\"Open In Colab\"/></a>"
      ]
    },
    {
      "cell_type": "markdown",
      "metadata": {
        "id": "qOSPcn9BriIY"
      },
      "source": [
        "**隨堂練習1： BMI 計算**\n",
        "\n",
        "請寫一個程式讓使用者輸入身高與體重，顯示BMI 值與肥胖程度。 BMI 等於體重（KG）除以身高（M）的平方，而BMI 與肥胖分類標準如下：\n",
        "\n",
        "若BMI 值小於18，則顯示「體重過輕」，否則若BMI 值小於24，則顯示「體重正常」，若BMI 值小於27，則顯示「體重過重」，否則顯示「體重肥胖」。"
      ]
    },
    {
      "cell_type": "code",
      "metadata": {
        "id": "lEToIlY5riIa",
        "colab": {
          "base_uri": "https://localhost:8080/"
        },
        "outputId": "e0fb05c7-8acc-455d-ea9c-edb2a1212ec9"
      },
      "source": [
        "w = float(input('請輸入體重(KG)?'))\n",
        "h = float(input('請輸入身高(M)?'))\n",
        "bmi = w/(h*h)\n",
        "print('BMI為',bmi)\n",
        "if bmi < 18:\n",
        "    print('體重過輕')\n",
        "elif bmi < 24:\n",
        "    print('體重正常')\n",
        "elif bmi < 27:\n",
        "    print('體重過重')\n",
        "else:\n",
        "    print('體重肥胖')"
      ],
      "execution_count": null,
      "outputs": [
        {
          "output_type": "stream",
          "text": [
            "請輸入體重(KG)?88\n",
            "請輸入身高(M)?1.8\n",
            "BMI為 27.160493827160494\n",
            "體重肥胖\n"
          ],
          "name": "stdout"
        }
      ]
    },
    {
      "cell_type": "markdown",
      "metadata": {
        "id": "hD0ZWhkpriIb"
      },
      "source": [
        "**隨堂練習2： 三一律(單向選擇、雙向與巢狀選擇、多向選擇)**\n",
        "\n",
        "請輸入一個數，然後判斷這個數是正數、是負數或者是零。"
      ]
    },
    {
      "cell_type": "code",
      "metadata": {
        "id": "mdxnwAA7riIb",
        "colab": {
          "base_uri": "https://localhost:8080/"
        },
        "outputId": "562e7a6a-027f-4e63-b534-d4455832c08a"
      },
      "source": [
        "##單向選擇\n",
        "num = int(input(\"Pick a number: \"))\n",
        "if num > 0:\n",
        "    print(\"Your number is positive.\")\n",
        "if num < 0:\n",
        "    print(\"Your number is negative.\")\n",
        "if num == 0:\n",
        "    print(\"Your number is zero.\")\n",
        "\n",
        "\n",
        " "
      ],
      "execution_count": null,
      "outputs": [
        {
          "output_type": "stream",
          "text": [
            "Pick a number: 5\n",
            "Your number is positive.\n"
          ],
          "name": "stdout"
        }
      ]
    },
    {
      "cell_type": "code",
      "metadata": {
        "colab": {
          "base_uri": "https://localhost:8080/"
        },
        "id": "ClNAWKl5ZhNA",
        "outputId": "5556ca63-b1bc-4086-d409-9d94b5552f92"
      },
      "source": [
        "## 雙向+巢狀選擇\n",
        "num = int(input(\"Pick a number: \"))\n",
        "if num > 0:\n",
        "  print(\"Your number is positive.\")   \n",
        "else:\n",
        "  if num < 0:\n",
        "    print(\"Your number is negative.\")\n",
        "  else:\n",
        "    print(\"Your number is zero.\")\n",
        "print(\"finished\")\n"
      ],
      "execution_count": null,
      "outputs": [
        {
          "output_type": "stream",
          "text": [
            "Pick a number: 10\n",
            "Your number is positive.\n",
            "finished\n"
          ],
          "name": "stdout"
        }
      ]
    },
    {
      "cell_type": "code",
      "metadata": {
        "colab": {
          "base_uri": "https://localhost:8080/"
        },
        "id": "DCJDuAGNasdR",
        "outputId": "8b798a34-3ad6-45bc-c459-19952712ff19"
      },
      "source": [
        "##多項選擇\n",
        "num = int(input(\"Pick a number: \"))\n",
        "if num > 0:\n",
        "  print(\"Your number is positive.\")\n",
        "elif num < 0:\n",
        "  print(\"Your number is negative.\")\n",
        "else:\n",
        "  print(\"Your number is zero.\")\n",
        "print(\"Finished\")\n"
      ],
      "execution_count": null,
      "outputs": [
        {
          "output_type": "stream",
          "text": [
            "Pick a number: 0\n",
            "Your number is zero.\n",
            "Finished\n"
          ],
          "name": "stdout"
        }
      ]
    },
    {
      "cell_type": "markdown",
      "metadata": {
        "id": "LIJNe4LrriIb"
      },
      "source": [
        "**練習5   體溫與發燒**\n",
        "\n",
        "設計程式根據體溫判斷是否發燒，由使用者輸入體溫，程式判斷是否發燒，假設體溫小於36度，顯示「體溫過低」，體溫大於等於36度小於38度，顯示「體溫正常」，否則若體溫大於等於38度小於39度，顯示「體溫有點燒」，否則體溫大於等於39度，顯示「體溫很燒」。\n",
        "\n",
        "輸入體溫「36.5」，輸出為「體溫正常」。\n",
        "\n",
        "～程式執行結果如下。\n",
        "\n",
        "請輸入體溫？36.5\n",
        "\n",
        "體溫正常"
      ]
    },
    {
      "cell_type": "code",
      "metadata": {
        "id": "nqqeAFc4riIc",
        "colab": {
          "base_uri": "https://localhost:8080/"
        },
        "outputId": "f0e349f5-ebdc-4751-af16-4c07ed008653"
      },
      "source": [
        "num = float(input(\"請輸入體溫?\"))\n",
        "\n",
        "if num < 36:\n",
        "    print(\"體溫過低\")\n",
        "elif num < 38:\n",
        "    print(\"體溫正常\")\n",
        "elif num < 39:\n",
        "    print(\"體溫有點燒\")\n",
        "else:\n",
        "    print(\"體溫很燒\")\n",
        "    \n"
      ],
      "execution_count": null,
      "outputs": [
        {
          "output_type": "stream",
          "text": [
            "請輸入體溫?36.5\n",
            "體溫正常\n"
          ],
          "name": "stdout"
        }
      ]
    },
    {
      "cell_type": "markdown",
      "metadata": {
        "id": "5hHJZ5HtriIc"
      },
      "source": [
        "**練習6  閏年判斷**\n",
        "\n",
        "設計程式允許輸入西元幾年，請求出該年是否是閏年，閏年表示該年多一天，若為4的倍數稱做閏年，但若為100的倍數就不為閏年，且若為400倍數又是閏年。(四年一潤、百年不潤、四百年再潤)\n",
        "\n",
        "輸入年份「2012」，輸出為「2012是閏年」。\n",
        "\n",
        "～程式執行結果如下。\n",
        "\n",
        "請輸入年份？2012\n",
        "\n",
        "2012 是閏年"
      ]
    },
    {
      "cell_type": "code",
      "metadata": {
        "id": "7UcmZggCriIc",
        "colab": {
          "base_uri": "https://localhost:8080/"
        },
        "outputId": "e9aaef16-07f3-478d-8cc5-6603ad01421b"
      },
      "source": [
        "year = int(input(\"請輸入年份? \"))\n",
        "if year % 400 == 0:\n",
        "    print(\"是閏年\")\n",
        "elif year % 100 == 0:\n",
        "    print(\"不是閏年\")\n",
        "elif year % 4 == 0:\n",
        "    print(\"是閏年\")\n",
        "else:\n",
        "    print(\"不是閏年\")\n",
        "\n",
        "\n",
        "   \n",
        "\n",
        "\n"
      ],
      "execution_count": null,
      "outputs": [
        {
          "output_type": "stream",
          "text": [
            "請輸入年份? 2012\n",
            "是閏年\n"
          ],
          "name": "stdout"
        }
      ]
    },
    {
      "cell_type": "markdown",
      "metadata": {
        "id": "7inNjxGPriIc"
      },
      "source": [
        "**練習12：計程車計費**\n",
        "\n",
        "某城市計程車計費3公里以內6元，超過3公里不足10公里、每公里1.8元，超過10公里則超過部分加收50%。此外停車等候每3分鐘收1元，請用Python寫出車費是多少。"
      ]
    },
    {
      "cell_type": "code",
      "metadata": {
        "id": "bnpMI12nriId",
        "colab": {
          "base_uri": "https://localhost:8080/"
        },
        "outputId": "f7da658b-a2ef-43e0-c839-4e2eda96e998"
      },
      "source": [
        "length = int(input(\"請輸入距離: \"))\n",
        "time = int(input(\"請輸入時間: \"))\n",
        "if length >= 10:\n",
        "    feight = 6 + (10 - 3) *1.8 + (length - 10) * 1.8 * 1.5\n",
        "else:\n",
        "    if length >= 3:\n",
        "        feight = 6 + (length - 3) * 1.8\n",
        "    else:\n",
        "        feight = 6\n",
        "feight = feight + (time/3) * 1\n",
        "print(\"計程車費是\",feight)\n"
      ],
      "execution_count": 1,
      "outputs": [
        {
          "output_type": "stream",
          "text": [
            "請輸入距離: 8\n",
            "請輸入時間: 6\n",
            "計程車費是 17.0\n"
          ],
          "name": "stdout"
        }
      ]
    },
    {
      "cell_type": "code",
      "metadata": {
        "id": "zJEa_QlkOA1A"
      },
      "source": [
        ""
      ],
      "execution_count": null,
      "outputs": []
    }
  ]
}