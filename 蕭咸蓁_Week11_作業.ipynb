{
  "nbformat": 4,
  "nbformat_minor": 0,
  "metadata": {
    "kernelspec": {
      "display_name": "Python 3",
      "language": "python",
      "name": "python3"
    },
    "language_info": {
      "codemirror_mode": {
        "name": "ipython",
        "version": 3
      },
      "file_extension": ".py",
      "mimetype": "text/x-python",
      "name": "python",
      "nbconvert_exporter": "python",
      "pygments_lexer": "ipython3",
      "version": "3.8.5"
    },
    "colab": {
      "name": "蕭咸蓁-Week11-作業.ipynb",
      "provenance": [],
      "collapsed_sections": [],
      "include_colab_link": true
    }
  },
  "cells": [
    {
      "cell_type": "markdown",
      "metadata": {
        "id": "view-in-github",
        "colab_type": "text"
      },
      "source": [
        "<a href=\"https://colab.research.google.com/github/a109010151/Computational-Thinking-and-Program-Design/blob/main/%E8%95%AD%E5%92%B8%E8%93%81_Week11_%E4%BD%9C%E6%A5%AD.ipynb\" target=\"_parent\"><img src=\"https://colab.research.google.com/assets/colab-badge.svg\" alt=\"Open In Colab\"/></a>"
      ]
    },
    {
      "cell_type": "markdown",
      "metadata": {
        "id": "GH20Z-y2k4Ys"
      },
      "source": [
        "# 基本程式設計(應用篇)"
      ]
    },
    {
      "cell_type": "markdown",
      "metadata": {
        "id": "ZG8lzb9kk4Yz"
      },
      "source": [
        "### 4-2 運算思維四個基石"
      ]
    },
    {
      "cell_type": "markdown",
      "metadata": {
        "id": "5owwVdW-k4Y0"
      },
      "source": [
        "#### 4-2-4  問題拆解 - 打造你的聊天機器人"
      ]
    },
    {
      "cell_type": "markdown",
      "metadata": {
        "id": "EHfZ-xRGk4Y0"
      },
      "source": [
        "「哈囉，大家好。我叫Zyxo64，是一個聊天機器人。\n",
        "\n",
        "在嗜好與興趣方面，我很喜歡美食，也喜歡養動物。\n",
        "\n",
        "很高興有機會來到世新大學，請大家多多指教。\n",
        "\n",
        "嗨！妳好，請問大名？：Francis。\n",
        "\n",
        "Francis，很高興認識你。"
      ]
    },
    {
      "cell_type": "code",
      "metadata": {
        "id": "F7GrKAiSk4Y1",
        "colab": {
          "base_uri": "https://localhost:8080/"
        },
        "outputId": "5fdf5710-3940-4c6b-e6d4-e50055b9c74b"
      },
      "source": [
        "# 1.聊天機器人自我介紹\n",
        "print(\"哈囉，大家好。我叫Zyxo64，是一個聊天機器人。\")\n",
        "print(f\"在嗜好與興趣方面，我很喜歡美食，也喜歡養動物。\")\n",
        "\n",
        "Hello = \"很高興有機會來到世新大學，請大家多多指教。\"\n",
        "print(Hello)\n",
        "\n",
        "# 2. 打招呼，取得對方名字\n"
      ],
      "execution_count": 4,
      "outputs": [
        {
          "output_type": "stream",
          "text": [
            "哈囉，大家好。我叫Zyxo64，是一個聊天機器人。\n",
            "在嗜好與興趣方面，我很喜歡美食，也喜歡養動物。\n",
            "很高興有機會來到世新大學，請大家多多指教。\n"
          ],
          "name": "stdout"
        }
      ]
    },
    {
      "cell_type": "code",
      "metadata": {
        "colab": {
          "base_uri": "https://localhost:8080/"
        },
        "id": "vjVDsRTByjxt",
        "outputId": "4bb74f37-9b96-466f-f9de-391e2b3ce8cf"
      },
      "source": [
        "print(\"嗨！妳好。\")\n",
        "name = input(\"請問大名？：\")\n",
        "print(f\"{name},很高興認識你。\")"
      ],
      "execution_count": 5,
      "outputs": [
        {
          "output_type": "stream",
          "text": [
            "嗨！妳好。\n",
            "請問大名？：Francis\n",
            "Francis,很高興認識你。\n"
          ],
          "name": "stdout"
        }
      ]
    },
    {
      "cell_type": "markdown",
      "metadata": {
        "id": "Ysy5-TSGk4Y2"
      },
      "source": [
        "抱歉，請問一下今年是西元2021年，那是民國幾年呢？：*110*。\n",
        "\n",
        "對！沒錯，謝謝妳！\n",
        "\n",
        "**Francis**，猜猜看我今年幾歲？ ：**18**。\n",
        "\n",
        "哇！你好聰明，我今年的確*18*。\n",
        "\n",
        "再82年我就100歲了。\n",
        "\n",
        "那時候是西元 2103年，也就是民國192年囉！"
      ]
    },
    {
      "cell_type": "code",
      "metadata": {
        "id": "fZQU-rNSk4Y3",
        "colab": {
          "base_uri": "https://localhost:8080/"
        },
        "outputId": "30f498bd-c6bc-4a95-81e5-630cc7fafb61"
      },
      "source": [
        "# 3. 數學運算\n",
        "## 3-1 從使用者取得今年年份\n",
        "year = input(\"請問一下今年是西元2021年，那是民國幾年呢？：\")\n",
        "print(\"對！沒錯，謝謝妳！\")\n",
        "## 3-2 請使用者猜年齡\n",
        "age = input(\"Francis，猜猜看我今年幾歲？:\") \n",
        "print(f\"哇！你好聰明，我今年的確{age}\")\n",
        "## 3-3 計算聊天機器人滿100歲的年份\n",
        "year = int(year)\n",
        "age = int(age)\n",
        "print(f\"再{100-age}年我就100歲了。\")\n",
        "time = year + 1911 + (100-age)\n",
        "print(f\"那時候是西元{time} 年，也就是民國{time-1911}年囉！\")\n"
      ],
      "execution_count": 17,
      "outputs": [
        {
          "output_type": "stream",
          "text": [
            "請問一下今年是西元2021年，那是民國幾年呢？：110\n",
            "對！沒錯，謝謝妳！\n",
            "Francis，猜猜看我今年幾歲？:18\n",
            "哇！你好聰明，我今年的確18\n",
            "再82年我就100歲了。\n",
            "那時候是西元2103 年，也就是民國192年囉！\n"
          ],
          "name": "stdout"
        }
      ]
    },
    {
      "cell_type": "markdown",
      "metadata": {
        "id": "sVENZcMLk4Y3"
      },
      "source": [
        "我喜歡吃巧克力，也喜歡嘗試各種新食物。\n",
        "\n",
        "你呢？你最喜歡的食物是什麼？**:披薩**。\n",
        "\n",
        "我也喜歡 *披薩*。\n",
        "\n",
        "你多久吃一次 *披薩*？**：每天**。\n",
        "\n",
        "真有趣。不知道這樣對健康好不好。"
      ]
    },
    {
      "cell_type": "code",
      "metadata": {
        "id": "yP8tkViXk4Y3",
        "colab": {
          "base_uri": "https://localhost:8080/"
        },
        "outputId": "43bf36e3-01bd-437b-dfa5-f861f3b70514"
      },
      "source": [
        "# 4 興趣\n",
        "## 4-1 食物話題\n",
        "print(\"我喜歡吃巧克力，也喜歡嘗試各種新食物。\")\n",
        "food = input(\"你呢？你最喜歡的食物是什麼？\")\n",
        "print(f\"我也喜歡{food}。\")\n",
        "howoften = input(\"你多久吃一次\"+ food + \"?\")\n",
        "print(\"真有趣。不知道這樣對健康好不好。\")"
      ],
      "execution_count": 19,
      "outputs": [
        {
          "output_type": "stream",
          "text": [
            "我喜歡吃巧克力，也喜歡嘗試各種新食物。\n",
            "你呢？你最喜歡的食物是什麼？pizza\n",
            "我也喜歡pizza。\n",
            "你多久吃一次pizza?everyday\n",
            "真有趣。不知道這樣對健康好不好。\n"
          ],
          "name": "stdout"
        }
      ]
    },
    {
      "cell_type": "markdown",
      "metadata": {
        "id": "qZiBIa-Ek4Y4"
      },
      "source": [
        "我最喜歡的動物是長頸鹿。你呢？ **：烏龜**。\n",
        "\n",
        "我不喜歡*烏龜*！\n",
        "\n",
        "不知道 *烏龜* 喜不喜歡吃 *披薩*？"
      ]
    },
    {
      "cell_type": "code",
      "metadata": {
        "id": "6_MJSImFk4Y4",
        "colab": {
          "base_uri": "https://localhost:8080/"
        },
        "outputId": "33708f9f-3788-48e0-8d02-62420c20c988"
      },
      "source": [
        "# 4 興趣\n",
        "## 4-2 動物話題\n",
        "animal = input(\"我最喜歡的動物是長頸鹿。你呢？\")\n",
        "print(f\"我不喜歡{animal}！\")\n",
        "print(f\"不知道{animal}喜不喜歡吃{food}？\")\n"
      ],
      "execution_count": 32,
      "outputs": [
        {
          "output_type": "stream",
          "text": [
            "我最喜歡的動物是長頸鹿。你呢？turtle\n",
            "我不喜歡turtle！\n",
            "不知道turtle喜不喜歡吃pizza？\n"
          ],
          "name": "stdout"
        }
      ]
    },
    {
      "cell_type": "markdown",
      "metadata": {
        "id": "enJxbkAQk4Y4"
      },
      "source": [
        "你今天的心情如何？ **：很開心**。\n",
        "\n",
        "可以告訴我你 *開心* 的原因嗎？**因為週末了！** \n",
        "\n",
        "祝你週末愉快！\n",
        "\n",
        "我喜歡跟你聊天，現在有點累了，改天再聊吧！！\n",
        "\n",
        "再見 *Francis*！"
      ]
    },
    {
      "cell_type": "code",
      "metadata": {
        "id": "I1ZyTwBDk4Y5",
        "colab": {
          "base_uri": "https://localhost:8080/"
        },
        "outputId": "63ea5a7f-fcad-4e71-9948-db7739bec950"
      },
      "source": [
        "# 5. 關於心情的對話\n",
        "mood = input(\"你今天的心情如何？\") \n",
        "print(f\"可以告訴我你{mood}的原因嗎？\")\n",
        "reason = input(\"why?\")\n",
        "print(\"祝你週末愉快！\")\n",
        "\n"
      ],
      "execution_count": 31,
      "outputs": [
        {
          "output_type": "stream",
          "text": [
            "你今天的心情如何？happy\n",
            "可以告訴我你happy的原因嗎？\n",
            "why?weekend\n",
            "祝你週末愉快！\n"
          ],
          "name": "stdout"
        }
      ]
    },
    {
      "cell_type": "markdown",
      "metadata": {
        "id": "_4vWG6i2k4Y5"
      },
      "source": [
        "我喜歡跟你聊天，現在有點累了，改天再聊吧！！\n",
        "\n",
        "再見 *Francis*！"
      ]
    },
    {
      "cell_type": "code",
      "metadata": {
        "id": "_c4FigiGk4Y5",
        "colab": {
          "base_uri": "https://localhost:8080/"
        },
        "outputId": "baf355b5-ee8e-4e07-b4fe-846b3593b3ab"
      },
      "source": [
        "# 6. 道別\n",
        "print(\"我喜歡跟你聊天，現在有點累了，改天再聊吧！！\")\n",
        "\n",
        "print(f\"再見{name}！\")"
      ],
      "execution_count": 30,
      "outputs": [
        {
          "output_type": "stream",
          "text": [
            "我喜歡跟你聊天，現在有點累了，改天再聊吧！！\n",
            "再見Francis！\n"
          ],
          "name": "stdout"
        }
      ]
    },
    {
      "cell_type": "markdown",
      "metadata": {
        "id": "klCix6yek4Y5"
      },
      "source": [
        "## 期末報告"
      ]
    },
    {
      "cell_type": "markdown",
      "metadata": {
        "id": "VU4UVvM0k4Y6"
      },
      "source": [
        "### 組長(學號姓名):\n",
        "\n"
      ]
    },
    {
      "cell_type": "markdown",
      "metadata": {
        "id": "nZrUdq119Su_"
      },
      "source": [
        "A109010151 蕭咸蓁"
      ]
    },
    {
      "cell_type": "markdown",
      "metadata": {
        "id": "mrq37r6Ck4Y6"
      },
      "source": [
        "### 組員(學號姓名):\n",
        "\n"
      ]
    },
    {
      "cell_type": "markdown",
      "metadata": {
        "id": "WqTK2O4a-l0K"
      },
      "source": [
        "A109010049陳亭蓁  A109010127張宇彤"
      ]
    },
    {
      "cell_type": "markdown",
      "metadata": {
        "id": "ESQJraSAk4Y6"
      },
      "source": [
        "### 題目:"
      ]
    },
    {
      "cell_type": "markdown",
      "metadata": {
        "id": "Qj4fNotXk4Y6"
      },
      "source": [
        "### 百字腳本\n",
        "\n"
      ]
    }
  ]
}